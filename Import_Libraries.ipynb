# 📦 Import essential libraries
import pandas as pd                  # For data manipulation and analysis
import numpy as np                   # For numerical operations
import matplotlib.pyplot as plt      # For plotting and visualizations
import seaborn as sns                # For advanced visualizations
import warnings                      # To suppress warning messages
warnings.simplefilter("ignore")      # Ignore unnecessary warnings
